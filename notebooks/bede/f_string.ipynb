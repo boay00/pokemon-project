{
 "cells": [
  {
   "cell_type": "code",
   "execution_count": 10,
   "id": "eea64bfb",
   "metadata": {},
   "outputs": [],
   "source": [
    "greeting = \"hello\""
   ]
  },
  {
   "cell_type": "code",
   "execution_count": 11,
   "id": "14b02a2f",
   "metadata": {},
   "outputs": [],
   "source": [
    "age = 45+34"
   ]
  },
  {
   "cell_type": "code",
   "execution_count": 16,
   "id": "72d97b7a",
   "metadata": {},
   "outputs": [
    {
     "name": "stdout",
     "output_type": "stream",
     "text": [
      "this is my greeting hello , this is my age 79\n"
     ]
    }
   ],
   "source": [
    "print(\"this is my greeting\",greeting, \", this is my age\", age)"
   ]
  },
  {
   "cell_type": "code",
   "execution_count": 19,
   "id": "54bcdd1c",
   "metadata": {},
   "outputs": [
    {
     "name": "stdout",
     "output_type": "stream",
     "text": [
      "this is my greeting hello, this is my age: 158\n"
     ]
    }
   ],
   "source": [
    "print(f\"this is my greeting {greeting}, this is my age: {age * 2}\")"
   ]
  }
 ],
 "metadata": {
  "kernelspec": {
   "display_name": "pokemon",
   "language": "python",
   "name": "python3"
  },
  "language_info": {
   "codemirror_mode": {
    "name": "ipython",
    "version": 3
   },
   "file_extension": ".py",
   "mimetype": "text/x-python",
   "name": "python",
   "nbconvert_exporter": "python",
   "pygments_lexer": "ipython3",
   "version": "3.11.0"
  }
 },
 "nbformat": 4,
 "nbformat_minor": 5
}
