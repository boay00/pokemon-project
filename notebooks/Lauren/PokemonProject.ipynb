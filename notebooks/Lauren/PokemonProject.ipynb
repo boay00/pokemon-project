{
 "cells": [
  {
   "cell_type": "code",
   "execution_count": 14,
   "id": "55d66ca7",
   "metadata": {},
   "outputs": [
    {
     "data": {
      "text/html": [
       "\n",
       "        <iframe\n",
       "            width=\"100%\"\n",
       "            height=\"650\"\n",
       "            src=\"http://127.0.0.1:8050/\"\n",
       "            frameborder=\"0\"\n",
       "            allowfullscreen\n",
       "            \n",
       "        ></iframe>\n",
       "        "
      ],
      "text/plain": [
       "<IPython.lib.display.IFrame at 0x2a08b840710>"
      ]
     },
     "metadata": {},
     "output_type": "display_data"
    }
   ],
   "source": [
    "import dash\n",
    "from dash import dcc, html, Input, Output\n",
    "import plotly.express as px\n",
    "import pandas as pd\n",
    "import os\n",
    "from flask import send_from_directory\n",
    "\n",
    "df = pd.read_csv('pokemon.csv')\n",
    "df['image_path'] = 'archive (1)/images/' + df['name'] + '/0.jpg'\n",
    "\n",
    "app = dash.Dash(__name__)\n",
    "server = app.server\n",
    "\n",
    "\n",
    "@server.route('/images/<pokemon>/<image>')\n",
    "def serve_image(pokemon, image):\n",
    "    return send_from_directory(os.path.join('archive (1)/images', pokemon), image)\n",
    "\n",
    "\n",
    "fig = px.scatter(\n",
    "    df,\n",
    "    x='attack',\n",
    "    y='defense',\n",
    "    hover_name='name',\n",
    "    color='type1',\n",
    "    title='Pokemon Attack vs Defense'\n",
    ")\n",
    "\n",
    "app.layout = html.Div([\n",
    "    html.H1('Pokemon Visual Pokedex'),\n",
    "    dcc.Graph(id='scatter-plot', figure=fig),\n",
    "    html.Div(id='pokemon-details', style={'marginTop': 20, 'color': 'white'})\n",
    "])\n",
    "\n",
    "\n",
    "@app.callback(\n",
    "    Output('pokemon-details', 'children'),\n",
    "    Input('scatter-plot', 'clickData')\n",
    ")\n",
    "def display_pokemon_details(clickData):\n",
    "    if clickData is None:\n",
    "        return 'Click a Pokémon on the graph to see details.'\n",
    "\n",
    "    name = clickData['points'][0]['hovertext']\n",
    "    pokemon = df[df['name'] == name].iloc[0]\n",
    "\n",
    "    image_url = f'/images/{name}/0.jpg'\n",
    "\n",
    "    details = [\n",
    "        html.H3(name),\n",
    "        html.Img(src=image_url, style={'height': '200px'}),\n",
    "        html.Ul([\n",
    "            html.Li(f'HP: {pokemon[\"hp\"]}'),\n",
    "            html.Li(f'Attack: {pokemon[\"attack\"]}'),\n",
    "            html.Li(f'Defense: {pokemon[\"defense\"]}'),\n",
    "            html.Li(f'Sp. Attack: {pokemon[\"sp_attack\"]}'),\n",
    "            html.Li(f'Sp. Defense: {pokemon[\"sp_defense\"]}'),\n",
    "            html.Li(f'Speed: {pokemon[\"speed\"]}'),\n",
    "            html.Li(f'Primary Type: {pokemon[\"type1\"]}'),\n",
    "            html.Li(f'Secondary Type: {pokemon[\"type2\"] if pd.notnull(pokemon[\"type2\"]) else \"None\"}'),\n",
    "        ])\n",
    "    ]\n",
    "\n",
    "    return html.Div(details)\n",
    "\n",
    "\n",
    "if __name__ == '__main__':\n",
    "    app.run(debug=True)\n"
   ]
  }
 ],
 "metadata": {
  "kernelspec": {
   "display_name": "Python 3",
   "language": "python",
   "name": "python3"
  },
  "language_info": {
   "codemirror_mode": {
    "name": "ipython",
    "version": 3
   },
   "file_extension": ".py",
   "mimetype": "text/x-python",
   "name": "python",
   "nbconvert_exporter": "python",
   "pygments_lexer": "ipython3",
   "version": "3.11.9"
  }
 },
 "nbformat": 4,
 "nbformat_minor": 5
}
