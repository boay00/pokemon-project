{
 "cells": [
  {
   "cell_type": "code",
   "execution_count": 1,
   "id": "500e564a",
   "metadata": {},
   "outputs": [
    {
     "name": "stdout",
     "output_type": "stream",
     "text": [
      "\n",
      "\u001b[1m[\u001b[0m\u001b[34;49mnotice\u001b[0m\u001b[1;39;49m]\u001b[0m\u001b[39;49m A new release of pip available: \u001b[0m\u001b[31;49m22.3\u001b[0m\u001b[39;49m -> \u001b[0m\u001b[32;49m25.1.1\u001b[0m\n",
      "\u001b[1m[\u001b[0m\u001b[34;49mnotice\u001b[0m\u001b[1;39;49m]\u001b[0m\u001b[39;49m To update, run: \u001b[0m\u001b[32;49mpip install --upgrade pip\u001b[0m\n",
      "\n",
      "\u001b[1m[\u001b[0m\u001b[34;49mnotice\u001b[0m\u001b[1;39;49m]\u001b[0m\u001b[39;49m A new release of pip available: \u001b[0m\u001b[31;49m22.3\u001b[0m\u001b[39;49m -> \u001b[0m\u001b[32;49m25.1.1\u001b[0m\n",
      "\u001b[1m[\u001b[0m\u001b[34;49mnotice\u001b[0m\u001b[1;39;49m]\u001b[0m\u001b[39;49m To update, run: \u001b[0m\u001b[32;49mpip install --upgrade pip\u001b[0m\n",
      "\n",
      "\u001b[1m[\u001b[0m\u001b[34;49mnotice\u001b[0m\u001b[1;39;49m]\u001b[0m\u001b[39;49m A new release of pip available: \u001b[0m\u001b[31;49m22.3\u001b[0m\u001b[39;49m -> \u001b[0m\u001b[32;49m25.1.1\u001b[0m\n",
      "\u001b[1m[\u001b[0m\u001b[34;49mnotice\u001b[0m\u001b[1;39;49m]\u001b[0m\u001b[39;49m To update, run: \u001b[0m\u001b[32;49mpip install --upgrade pip\u001b[0m\n",
      "\n",
      "\u001b[1m[\u001b[0m\u001b[34;49mnotice\u001b[0m\u001b[1;39;49m]\u001b[0m\u001b[39;49m A new release of pip available: \u001b[0m\u001b[31;49m22.3\u001b[0m\u001b[39;49m -> \u001b[0m\u001b[32;49m25.1.1\u001b[0m\n",
      "\u001b[1m[\u001b[0m\u001b[34;49mnotice\u001b[0m\u001b[1;39;49m]\u001b[0m\u001b[39;49m To update, run: \u001b[0m\u001b[32;49mpip install --upgrade pip\u001b[0m\n",
      "\n",
      "\u001b[1m[\u001b[0m\u001b[34;49mnotice\u001b[0m\u001b[1;39;49m]\u001b[0m\u001b[39;49m A new release of pip available: \u001b[0m\u001b[31;49m22.3\u001b[0m\u001b[39;49m -> \u001b[0m\u001b[32;49m25.1.1\u001b[0m\n",
      "\u001b[1m[\u001b[0m\u001b[34;49mnotice\u001b[0m\u001b[1;39;49m]\u001b[0m\u001b[39;49m To update, run: \u001b[0m\u001b[32;49mpip install --upgrade pip\u001b[0m\n"
     ]
    }
   ],
   "source": [
    "!pip install pandas -q\n",
    "!pip install numpy -q\n",
    "!pip install matplotlib -q\n",
    "!pip install seaborn -q\n",
    "!pip install scikit-learn -q"
   ]
  },
  {
   "cell_type": "code",
   "execution_count": 2,
   "id": "934e96bf",
   "metadata": {},
   "outputs": [],
   "source": [
    "import pandas as pd\n",
    "import numpy as np\n",
    "from sklearn.model_selection import train_test_split\n",
    "from sklearn.linear_model import LinearRegression\n",
    "from sklearn.preprocessing import StandardScaler"
   ]
  },
  {
   "cell_type": "code",
   "execution_count": 3,
   "id": "3762a0d1",
   "metadata": {},
   "outputs": [
    {
     "name": "stdout",
     "output_type": "stream",
     "text": [
      "<class 'pandas.core.frame.DataFrame'>\n",
      "RangeIndex: 801 entries, 0 to 800\n",
      "Data columns (total 10 columns):\n",
      " #   Column          Non-Null Count  Dtype \n",
      "---  ------          --------------  ----- \n",
      " 0   name            801 non-null    object\n",
      " 1   attack          801 non-null    int64 \n",
      " 2   defense         801 non-null    int64 \n",
      " 3   sp_attack       801 non-null    int64 \n",
      " 4   sp_defense      801 non-null    int64 \n",
      " 5   speed           801 non-null    int64 \n",
      " 6   hp              801 non-null    int64 \n",
      " 7   type1           801 non-null    object\n",
      " 8   classification  801 non-null    object\n",
      " 9   abilities       801 non-null    object\n",
      "dtypes: int64(6), object(4)\n",
      "memory usage: 62.7+ KB\n"
     ]
    }
   ],
   "source": [
    "df = pd.read_csv('../../data/pokemon.csv')\n",
    "\n",
    "df.head()\n",
    "\n",
    "df = df [[\"name\", \"attack\", \"defense\", \"sp_attack\", \"sp_defense\", \"speed\", \"hp\", \"type1\", \"classification\", \"abilities\"]]\n",
    "\n",
    "df.dropna(inplace=True)\n",
    "\n",
    "df.info()"
   ]
  },
  {
   "cell_type": "code",
   "execution_count": 4,
   "id": "85954b1b",
   "metadata": {},
   "outputs": [],
   "source": [
    "features = [\"attack\", \"defense\", \"sp_attack\", \"sp_defense\"]\n",
    "target = \"speed\"\n",
    "\n",
    "X = df[features]\n",
    "y = df[target]"
   ]
  },
  {
   "cell_type": "code",
   "execution_count": 5,
   "id": "df30e128",
   "metadata": {},
   "outputs": [],
   "source": [
    "from sklearn.model_selection import train_test_split\n",
    "X_train, X_test, y_train, y_test = train_test_split(X, y, test_size=0.2, random_state=42)\n",
    "\n",
    "from sklearn.preprocessing import StandardScaler\n",
    "sc = StandardScaler()"
   ]
  },
  {
   "cell_type": "code",
   "execution_count": 6,
   "id": "c4e74a7e",
   "metadata": {},
   "outputs": [],
   "source": [
    "X_train_sc = sc.fit_transform(X_train)\n",
    "X_test_sc = sc.transform(X_test)\n",
    "\n",
    "X_train_sc = pd.DataFrame(X_train_sc, columns=features)\n",
    "X_test_sc = pd.DataFrame(X_test_sc, columns=features)"
   ]
  },
  {
   "cell_type": "code",
   "execution_count": 7,
   "id": "4c0d7c15",
   "metadata": {},
   "outputs": [],
   "source": [
    "from sklearn.linear_model import LinearRegression\n",
    "\n",
    "lr = LinearRegression()\n",
    "lr.fit(X_train_sc, y_train)\n",
    "train_score = lr.score(X_train_sc, y_train)\n",
    "test_score = lr.score(X_test_sc, y_test)"
   ]
  },
  {
   "cell_type": "code",
   "execution_count": 8,
   "id": "95236ebf",
   "metadata": {},
   "outputs": [],
   "source": [
    "dummy_pokemon = {\"name\": \"Lauren's Dummy Pokemon\", \"attack\": 100, \"defense\": 95, \"sp_attack\": 45, \"sp_defense\": 30, \"speed\": 70, \"hp\": 80, \"type1\": \"Fairy\", \"classification\": \"Dummy\", \"abilities\": \"Dummy Ability\"}\n",
    "\n",
    "dummy_pokemon = pd.DataFrame(dummy_pokemon, columns = dummy_pokemon.keys(), index = range(1))"
   ]
  },
  {
   "cell_type": "code",
   "execution_count": 9,
   "id": "e3002092",
   "metadata": {},
   "outputs": [
    {
     "data": {
      "text/html": [
       "<div>\n",
       "<style scoped>\n",
       "    .dataframe tbody tr th:only-of-type {\n",
       "        vertical-align: middle;\n",
       "    }\n",
       "\n",
       "    .dataframe tbody tr th {\n",
       "        vertical-align: top;\n",
       "    }\n",
       "\n",
       "    .dataframe thead th {\n",
       "        text-align: right;\n",
       "    }\n",
       "</style>\n",
       "<table border=\"1\" class=\"dataframe\">\n",
       "  <thead>\n",
       "    <tr style=\"text-align: right;\">\n",
       "      <th></th>\n",
       "      <th>attack</th>\n",
       "      <th>defense</th>\n",
       "      <th>sp_attack</th>\n",
       "      <th>sp_defense</th>\n",
       "    </tr>\n",
       "  </thead>\n",
       "  <tbody>\n",
       "    <tr>\n",
       "      <th>0</th>\n",
       "      <td>0.689881</td>\n",
       "      <td>0.70387</td>\n",
       "      <td>-0.802476</td>\n",
       "      <td>-1.467748</td>\n",
       "    </tr>\n",
       "  </tbody>\n",
       "</table>\n",
       "</div>"
      ],
      "text/plain": [
       "     attack  defense  sp_attack  sp_defense\n",
       "0  0.689881  0.70387  -0.802476   -1.467748"
      ]
     },
     "execution_count": 9,
     "metadata": {},
     "output_type": "execute_result"
    }
   ],
   "source": [
    "dummy_stats = dummy_pokemon[features]\n",
    "dummy_stats_sc = sc.transform(dummy_stats)\n",
    "dummy_stats = pd.DataFrame(dummy_stats_sc, columns = dummy_stats.columns, index = dummy_stats.index)\n",
    "dummy_stats"
   ]
  },
  {
   "cell_type": "code",
   "execution_count": 10,
   "id": "9898febd",
   "metadata": {},
   "outputs": [
    {
     "data": {
      "text/html": [
       "<div>\n",
       "<style scoped>\n",
       "    .dataframe tbody tr th:only-of-type {\n",
       "        vertical-align: middle;\n",
       "    }\n",
       "\n",
       "    .dataframe tbody tr th {\n",
       "        vertical-align: top;\n",
       "    }\n",
       "\n",
       "    .dataframe thead th {\n",
       "        text-align: right;\n",
       "    }\n",
       "</style>\n",
       "<table border=\"1\" class=\"dataframe\">\n",
       "  <thead>\n",
       "    <tr style=\"text-align: right;\">\n",
       "      <th></th>\n",
       "      <th>name</th>\n",
       "      <th>attack</th>\n",
       "      <th>defense</th>\n",
       "      <th>sp_attack</th>\n",
       "      <th>sp_defense</th>\n",
       "      <th>speed</th>\n",
       "      <th>hp</th>\n",
       "      <th>type1</th>\n",
       "      <th>classification</th>\n",
       "      <th>abilities</th>\n",
       "    </tr>\n",
       "  </thead>\n",
       "  <tbody>\n",
       "    <tr>\n",
       "      <th>0</th>\n",
       "      <td>Lauren's Dummy Pokemon</td>\n",
       "      <td>100</td>\n",
       "      <td>95</td>\n",
       "      <td>45</td>\n",
       "      <td>30</td>\n",
       "      <td>55.055109</td>\n",
       "      <td>80</td>\n",
       "      <td>Fairy</td>\n",
       "      <td>Dummy</td>\n",
       "      <td>Dummy Ability</td>\n",
       "    </tr>\n",
       "  </tbody>\n",
       "</table>\n",
       "</div>"
      ],
      "text/plain": [
       "                     name  attack  defense  sp_attack  sp_defense      speed  \\\n",
       "0  Lauren's Dummy Pokemon     100       95         45          30  55.055109   \n",
       "\n",
       "   hp  type1 classification      abilities  \n",
       "0  80  Fairy          Dummy  Dummy Ability  "
      ]
     },
     "execution_count": 10,
     "metadata": {},
     "output_type": "execute_result"
    }
   ],
   "source": [
    "speed_stat = lr.predict(dummy_stats).item()\n",
    "speed_stat\n",
    "dummy_pokemon[\"speed\"] = speed_stat\n",
    "dummy_pokemon"
   ]
  }
 ],
 "metadata": {
  "kernelspec": {
   "display_name": "pokemon",
   "language": "python",
   "name": "python3"
  },
  "language_info": {
   "codemirror_mode": {
    "name": "ipython",
    "version": 3
   },
   "file_extension": ".py",
   "mimetype": "text/x-python",
   "name": "python",
   "nbconvert_exporter": "python",
   "pygments_lexer": "ipython3",
   "version": "3.11.0"
  }
 },
 "nbformat": 4,
 "nbformat_minor": 5
}
