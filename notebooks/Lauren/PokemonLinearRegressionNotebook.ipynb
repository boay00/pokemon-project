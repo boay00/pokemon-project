{
 "cells": [
  {
   "cell_type": "code",
   "execution_count": 1,
   "id": "500e564a",
   "metadata": {},
   "outputs": [
    {
     "name": "stderr",
     "output_type": "stream",
     "text": [
      "\n",
      "[notice] A new release of pip is available: 24.0 -> 25.1.1\n",
      "[notice] To update, run: python.exe -m pip install --upgrade pip\n",
      "\n",
      "[notice] A new release of pip is available: 24.0 -> 25.1.1\n",
      "[notice] To update, run: python.exe -m pip install --upgrade pip\n",
      "\n",
      "[notice] A new release of pip is available: 24.0 -> 25.1.1\n",
      "[notice] To update, run: python.exe -m pip install --upgrade pip\n",
      "\n",
      "[notice] A new release of pip is available: 24.0 -> 25.1.1\n",
      "[notice] To update, run: python.exe -m pip install --upgrade pip\n",
      "\n",
      "[notice] A new release of pip is available: 24.0 -> 25.1.1\n",
      "[notice] To update, run: python.exe -m pip install --upgrade pip\n"
     ]
    }
   ],
   "source": [
    "!pip install pandas -q\n",
    "!pip install numpy -q\n",
    "!pip install matplotlib -q\n",
    "!pip install seaborn -q\n",
    "!pip install scikit-learn -q"
   ]
  },
  {
   "cell_type": "code",
   "execution_count": null,
   "id": "934e96bf",
   "metadata": {},
   "outputs": [],
   "source": [
    "import pandas as pd\n",
    "import numpy as np\n",
    "from sklearn.model_selection import train_test_split\n",
    "from sklearn.linear_model import LinearRegression\n",
    "from sklearn.preprocessing import StandardScaler"
   ]
  },
  {
   "cell_type": "code",
   "execution_count": null,
   "id": "3762a0d1",
   "metadata": {},
   "outputs": [],
   "source": [
    "df = pd.read_csv('pokemon.csv')\n",
    "\n",
    "df.head()\n",
    "\n",
    "df = df [[\"name\", \"attack\", \"defense\", \"sp_attack\", \"sp_defense\", \"speed\", \"hp\", \"type1\", \"classification\", \"abilities\"]]\n",
    "\n",
    "df.dropna(inplace=True)\n",
    "\n",
    "df.info()"
   ]
  },
  {
   "cell_type": "code",
   "execution_count": null,
   "id": "85954b1b",
   "metadata": {},
   "outputs": [],
   "source": [
    "features = [\"attack\", \"defense\", \"sp_attack\", \"sp_defense\"]\n",
    "target = \"speed\"\n",
    "\n",
    "X = df[features]\n",
    "y = df[target]"
   ]
  },
  {
   "cell_type": "code",
   "execution_count": null,
   "id": "df30e128",
   "metadata": {},
   "outputs": [],
   "source": [
    "from sklearn.model_selection import train_test_split\n",
    "X_train, X_test, y_train, y_test = train_test_split(X, y, test_size=0.2, random_state=42)\n",
    "\n",
    "from sklearn.preprocessing import StandardScaler\n",
    "sc = StandardScaler()"
   ]
  },
  {
   "cell_type": "code",
   "execution_count": null,
   "id": "c4e74a7e",
   "metadata": {},
   "outputs": [],
   "source": [
    "X_train_sc = sc.fit_transform(X_train)\n",
    "X_test_sc = sc.transform(X_test)\n",
    "\n",
    "X_train_sc = pd.DataFrame(X_train_sc, columns=features)\n",
    "X_test_sc = pd.DataFrame(X_test_sc, columns=features)"
   ]
  },
  {
   "cell_type": "code",
   "execution_count": null,
   "id": "4c0d7c15",
   "metadata": {},
   "outputs": [],
   "source": [
    "from sklearn.linear_model import LinearRegression\n",
    "\n",
    "lr = LinearRegression()\n",
    "lr.fit(X_train_sc, y_train)\n",
    "train_score = lr.score(X_train_sc, y_train)\n",
    "test_score = lr.score(X_test_sc, y_test)"
   ]
  },
  {
   "cell_type": "code",
   "execution_count": null,
   "id": "95236ebf",
   "metadata": {},
   "outputs": [],
   "source": [
    "dummy_pokemon = {\"name\": \"Lauren's Dummy Pokemon\", \"attack\": 100, \"defense\": 95, \"sp_attack\": 45, \"sp_defense\": 30, \"speed\": 70, \"hp\": 80, \"type1\": \"Fairy\", \"classification\": \"Dummy\", \"abilities\": \"Dummy Ability\"}\n",
    "\n",
    "dummy_pokemon = pd.DataFrame(dummy_pokemon, columns = dummy_pokemon.keys(), index = range(1))"
   ]
  },
  {
   "cell_type": "code",
   "execution_count": null,
   "id": "e3002092",
   "metadata": {},
   "outputs": [],
   "source": [
    "dummy_stats = dummy_pokemon[features]\n",
    "dummy_stats_sc = sc.transform(dummy_stats)\n",
    "dummy_stats = pd.DataFrame(dummy_stats_sc, columns = dummy_stats.columns, index = dummy_stats.index)\n",
    "dummy_stats"
   ]
  },
  {
   "cell_type": "code",
   "execution_count": null,
   "id": "9898febd",
   "metadata": {},
   "outputs": [],
   "source": [
    "speed_stat = lr.predict(dummy_stats).item()\n",
    "speed_stat\n",
    "dummy_pokemon[\"speed\"] = speed_stat\n",
    "dummy_pokemon"
   ]
  }
 ],
 "metadata": {
  "kernelspec": {
   "display_name": "pokemon (3.11.9)",
   "language": "python",
   "name": "python3"
  },
  "language_info": {
   "codemirror_mode": {
    "name": "ipython",
    "version": 3
   },
   "file_extension": ".py",
   "mimetype": "text/x-python",
   "name": "python",
   "nbconvert_exporter": "python",
   "pygments_lexer": "ipython3",
   "version": "3.11.9"
  }
 },
 "nbformat": 4,
 "nbformat_minor": 5
}
